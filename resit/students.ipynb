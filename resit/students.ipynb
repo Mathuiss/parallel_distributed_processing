{
 "metadata": {
  "orig_nbformat": 2,
  "kernelspec": {
   "name": "python3",
   "display_name": "Python 3.8.5 64-bit"
  },
  "metadata": {
   "interpreter": {
    "hash": "31f2aee4e71d21fbe5cf8b01ff0e069b9275f58929596ceb00d14d90e3e16cd6"
   }
  },
  "interpreter": {
   "hash": "31f2aee4e71d21fbe5cf8b01ff0e069b9275f58929596ceb00d14d90e3e16cd6"
  }
 },
 "nbformat": 4,
 "nbformat_minor": 2,
 "cells": [
  {
   "source": [
    "## Studenten opdracht\n",
    "\n",
    "De dataset van het CBS bestaan uit inschrijvingen en diplomauitreikingen van studenten in de periode 2015-2020.\n",
    "In de originele vraag A ging het over de periode 2008-2015. Omdat deze data niet meer beschikbaar is zal er moeten worden gekozen om de periode 2015-2020 aan te houden.\n",
    "\n",
    "Opdracht:\n",
    "- a) Bereken de kans dat een student tot tweemaal toe uitvalt bij een technische studie in de periode 2015-2020\n",
    "- b) Bereken een belief distribution voor de kans dat een student zowel geslaagde als uitvaller is\n",
    "- c) Bereken de kans dat een student van Business Studies daarna inschrijft voor een opleiding in het sociale domein, binnen 2 jaar na.\n",
    "\n"
   ],
   "cell_type": "markdown",
   "metadata": {}
  },
  {
   "cell_type": "code",
   "execution_count": 1,
   "metadata": {},
   "outputs": [],
   "source": [
    "import pyspark\n",
    "import findspark\n",
    "from pyspark.sql import SparkSession\n",
    "from pyspark.sql import SQLContext\n",
    "from pyspark.sql import Row\n",
    "import pyspark.sql.functions as F\n",
    "from pyspark.sql.types import IntegerType"
   ]
  },
  {
   "cell_type": "code",
   "execution_count": 2,
   "metadata": {},
   "outputs": [],
   "source": [
    "# Create findspark instance\n",
    "findspark.init()\n",
    "\n",
    "# Create spark session\n",
    "spark = SparkSession.builder.master(\"local\").appName(\"Linear Regression Model\").config(\"spark.executor.memory\", \"1gb\").getOrCreate()"
   ]
  },
  {
   "cell_type": "code",
   "execution_count": 3,
   "metadata": {},
   "outputs": [],
   "source": [
    "# Load spark context entry\n",
    "sc = spark.sparkContext"
   ]
  },
  {
   "source": [
    "## Preprocessing\n",
    "Tijdens deze stap proberen we data van de instroom te combineren met data van de geslaagden over dezelfde periode.\n",
    "De bedoeling is dat er twee dataframes worden geladen en worden gecombineerd.\n",
    "Het resultaat is dat we een dataset krijgen waarbij per provincie, gemeente, opleiding en jaar kunnen zien hoeveel instroom en uitstroom er is."
   ],
   "cell_type": "markdown",
   "metadata": {}
  },
  {
   "cell_type": "code",
   "execution_count": 4,
   "metadata": {},
   "outputs": [],
   "source": [
    "# Loading both text files\n",
    "data_intake = sc.textFile(\"04-inschrijvingen-hbo-2020.csv\")\n",
    "data_outgoing = sc.textFile(\"05-gediplomeerden-hbo-2020.csv\")"
   ]
  },
  {
   "cell_type": "code",
   "execution_count": 5,
   "metadata": {},
   "outputs": [],
   "source": [
    "# Map the columns split by the delimiter=; into a new dataframe\n",
    "# This changes the RDD from a text file to a 2D array\n",
    "header_in = data_intake.first()\n",
    "header_out = data_outgoing.first()\n",
    "\n",
    "data_intake = data_intake.filter(lambda line: line != header_in).map(lambda line: line.lstrip(\";\").split(\";\"))\n",
    "data_outgoing = data_outgoing.filter(lambda line: line != header_out).map(lambda line: line.lstrip(\";\").split(\";\"))"
   ]
  },
  {
   "cell_type": "code",
   "execution_count": 6,
   "metadata": {},
   "outputs": [],
   "source": [
    "# For both arrays we are going to build a spark DataFrame, which will allow us to do further processing\n",
    "df_intake = data_intake.map(lambda row: Row(municipality_nr=row[1],\n",
    "                                            chrono_compartment=row[7],\n",
    "                                            ed_code_actual=row[9],\n",
    "                                            ed_name_actual=row[10],\n",
    "                                            ed_form=row[11],\n",
    "                                            gender=row[12],\n",
    "                                            in_2016=row[13],\n",
    "                                            in_2017=row[14],\n",
    "                                            in_2018=row[15],\n",
    "                                            in_2019=row[16],\n",
    "                                            in_2020=row[17]\n",
    "                                            )).toDF()\n",
    "\n",
    "df_outgoing = data_outgoing.map(lambda row: Row(municipality_nr=row[1],\n",
    "                                            chrono_compartment=row[6],\n",
    "                                            ed_code_actual=row[8],\n",
    "                                            ed_name_actual=row[9],\n",
    "                                            ed_form=row[10],\n",
    "                                            gender=row[12],\n",
    "                                            out_2015=row[13],\n",
    "                                            out_2016=row[14],\n",
    "                                            out_2017=row[15],\n",
    "                                            out_2018=row[16],\n",
    "                                            out_2019=row[17]\n",
    "                                            )).toDF()"
   ]
  },
  {
   "cell_type": "code",
   "execution_count": 7,
   "metadata": {
    "tags": []
   },
   "outputs": [],
   "source": [
    "df = df_intake.join(df_outgoing, [\"municipality_nr\", \"chrono_compartment\" ,\"ed_code_actual\", \"ed_name_actual\", \"ed_form\", \"gender\"], how=\"inner\")"
   ]
  },
  {
   "cell_type": "code",
   "execution_count": 8,
   "metadata": {},
   "outputs": [
    {
     "output_type": "stream",
     "name": "stdout",
     "text": [
      "4035\n",
      "+---------------+--------------------+--------------+--------------------+------------------+------+-------+-------+-------+-------+-------+--------+--------+--------+--------+--------+\n",
      "|municipality_nr|  chrono_compartment|ed_code_actual|      ed_name_actual|           ed_form|gender|in_2016|in_2017|in_2018|in_2019|in_2020|out_2015|out_2016|out_2017|out_2018|out_2019|\n",
      "+---------------+--------------------+--------------+--------------------+------------------+------+-------+-------+-------+-------+-------+--------+--------+--------+--------+--------+\n",
      "|           0034|           onderwijs|         44103| M Educational Needs|deeltijd onderwijs|   man|      0|      4|      8|      7|      2|       0|       0|       0|       2|       5|\n",
      "|           0034|            techniek|         30020|           B HBO-ICT| voltijd onderwijs|   man|    239|    281|    344|    427|    477|      23|      24|      25|      30|      40|\n",
      "|           0080|  sectoroverstijgend|         49302|M Design Driven I...| voltijd onderwijs| vrouw|      0|      0|      0|      7|     17|       0|       0|       0|       0|       3|\n",
      "|           0289|landbouw en natuu...|         44135|M Leren en Innoveren|deeltijd onderwijs| vrouw|     50|     53|     56|     61|     59|      17|       9|      17|      16|      14|\n",
      "|           0307|     gezondheidszorg|         34538|B Management in d...| voltijd onderwijs| vrouw|    166|    144|    127|    133|    157|      22|      38|      37|      30|      24|\n",
      "|           0344|gedrag en maatsch...|         34116|       B Social Work|deeltijd onderwijs| vrouw|     91|    121|    166|    173|    187|      19|      14|      19|      12|      15|\n",
      "|           0599|            techniek|         30018|        B Automotive| voltijd onderwijs|   man|    283|    270|    298|    309|    304|      20|      31|      36|      41|      33|\n",
      "|           0758|gedrag en maatsch...|         34116|       B Social Work| voltijd onderwijs|   man|    170|    158|    164|    154|    170|      17|      26|      22|      13|      19|\n",
      "|           0772|     gezondheidszorg|         80131|Ad Zorg en Techno...|deeltijd onderwijs|   man|      0|      0|      1|      4|      5|       0|       0|       0|       0|       1|\n",
      "|           0855|           onderwijs|         45267|M Leraar Geschied...|deeltijd onderwijs|   man|     60|     62|     53|     49|     51|      14|      12|      10|       6|      12|\n",
      "|           0855|     taal en cultuur|         30014|B Circus and Perf...| voltijd onderwijs| vrouw|     39|     41|     46|     46|     42|       3|       8|       5|       7|      12|\n",
      "|           0014|            techniek|         34280| B Werktuigbouwkunde| voltijd onderwijs| vrouw|     14|     12|     14|     25|     19|       2|       3|       1|       0|       5|\n",
      "|           0114|            techniek|         34280| B Werktuigbouwkunde|   duaal onderwijs|   man|      0|      0|      0|     10|     13|       0|       0|       0|       0|       1|\n",
      "|           0193|            economie|         34406|       B Accountancy|deeltijd onderwijs| vrouw|      5|      4|      0|      0|      0|       0|       2|       4|       0|       0|\n",
      "|           0228|     gezondheidszorg|         34560|B Opleiding tot V...|   duaal onderwijs| vrouw|    162|    175|    185|    217|    224|      40|      42|      57|      29|      39|\n",
      "|           0268|            techniek|         34396|            B Chemie|deeltijd onderwijs|   man|     20|     22|     23|     21|     20|       3|       0|       2|       0|       1|\n",
      "|           0344|     taal en cultuur|         39110|B Autonome Beelde...| voltijd onderwijs|   man|     50|     43|     47|     55|     57|      18|       7|      11|       9|       9|\n",
      "|           0363|            economie|         35520| B Finance & Control|deeltijd onderwijs|   man|    251|    225|    208|    206|    218|      32|      50|      34|      33|      12|\n",
      "|           0363|           onderwijs|         35196|B Opleiding tot l...| voltijd onderwijs| vrouw|     57|     52|     52|     39|     39|       8|       9|      10|       8|      10|\n",
      "|           0363|     taal en cultuur|         34860|           B Theater| voltijd onderwijs|   man|    105|    115|    101|    104|    106|      19|      21|      27|      20|      23|\n",
      "|           0384|            economie|         35515|B Business Innova...| voltijd onderwijs|   man|    102|    132|    145|    150|    136|       0|       0|       7|       6|      12|\n",
      "|           0518|            techniek|         34092|B Communication a...| voltijd onderwijs|   man|    435|    411|    419|    376|    371|      87|      58|      74|      70|      54|\n",
      "|           0599|            economie|         34406|       B Accountancy| voltijd onderwijs|   man|    439|    439|    430|    406|    394|      39|      42|      46|      35|      41|\n",
      "|           0599|            economie|         34406|       B Accountancy| voltijd onderwijs|   man|    439|    439|    430|    406|    394|       3|       2|       2|       0|       1|\n",
      "|           0599|            economie|         34406|       B Accountancy| voltijd onderwijs|   man|     45|     45|     41|     51|     46|      39|      42|      46|      35|      41|\n",
      "|           0599|            economie|         34406|       B Accountancy| voltijd onderwijs|   man|     45|     45|     41|     51|     46|       3|       2|       2|       0|       1|\n",
      "|           0599|gedrag en maatsch...|         44113|        M Pedagogiek|deeltijd onderwijs| vrouw|     41|     47|     48|     42|     36|       8|       8|       9|      11|      16|\n",
      "|           0599|           onderwijs|         35210|B Opleiding tot l...|deeltijd onderwijs| vrouw|      6|      3|      4|      4|      8|       0|       2|       1|       1|       0|\n",
      "|           0599|           onderwijs|         35301|B Opleiding tot l...|deeltijd onderwijs| vrouw|     40|     39|     36|     34|     35|       1|       4|       5|       5|       5|\n",
      "|           0718|            economie|         34402|B Commerciele Eco...| voltijd onderwijs|   man|    141|    132|    134|    125|    123|      30|      23|      21|      22|      21|\n",
      "|           0758|            economie|         34405|      B Communicatie| voltijd onderwijs| vrouw|    255|    246|    260|    286|    300|      26|      67|      61|      42|      36|\n",
      "|           0758|            economie|         35522|B Logistics Manag...| voltijd onderwijs| vrouw|    109|    103|    103|     99|     93|      14|      20|      20|      18|      26|\n",
      "|           0796|            economie|         34406|       B Accountancy|deeltijd onderwijs| vrouw|     15|     17|     13|     10|      9|       1|       0|       0|       0|       0|\n",
      "|           0855|     taal en cultuur|         34739|            B Muziek| voltijd onderwijs| vrouw|    140|    133|    131|    134|    127|      32|      36|      20|      37|      26|\n",
      "|           1883|            economie|         34402|B Commerciele Eco...| voltijd onderwijs|   man|    524|    479|    435|    418|    452|      85|      86|      85|      73|      57|\n",
      "|           0014|           onderwijs|         39112|     B Docent Muziek| voltijd onderwijs|   man|     28|     20|     19|     21|     21|       4|       5|       3|       4|       4|\n",
      "|           0014|     taal en cultuur|         39111|        B Vormgeving| voltijd onderwijs|   man|     89|     90|    102|     72|     72|      16|      12|      20|      22|      20|\n",
      "|           0080|            economie|         80010|Ad Ondernemerscha...| voltijd onderwijs|   man|     47|     39|     40|     29|     53|      15|       3|       8|       6|       6|\n",
      "|           0080|landbouw en natuu...|         34868|B Tuinbouw en Akk...| voltijd onderwijs| vrouw|     11|     11|     12|     11|     11|       0|       1|       0|       3|       3|\n",
      "|           0080|           onderwijs|         35261|B Opleiding tot l...| voltijd onderwijs| vrouw|     13|     13|     13|     11|      8|       0|       2|       0|       1|       2|\n",
      "|           0080|     taal en cultuur|         30041|   B Popular Culture| voltijd onderwijs|   man|    164|    136|    139|    120|    131|      23|      27|      25|      28|      17|\n",
      "|           0106|            techniek|         34267|   B Elektrotechniek| voltijd onderwijs| vrouw|     11|     10|      9|      7|      5|       2|       2|       2|       0|       2|\n",
      "|           0153|     taal en cultuur|         39206|    B Muziektherapie| voltijd onderwijs|   man|      3|      6|      5|      7|     15|       2|       0|       1|       0|       1|\n",
      "|           0193|           onderwijs|         35210|B Opleiding tot l...|deeltijd onderwijs| vrouw|      5|     11|     12|     17|     19|       4|       0|       1|       0|       1|\n",
      "|           0275|landbouw en natuu...|         34226|B Land- en Waterm...|deeltijd onderwijs| vrouw|     11|     10|      4|      2|      4|       0|       1|       3|       2|       0|\n",
      "|           0275|landbouw en natuu...|         34869|B Dier- en Veehou...| voltijd onderwijs|   man|     41|     30|     33|     33|     27|       1|       8|       2|       1|       7|\n",
      "|           0275|landbouw en natuu...|         80068|Ad Tuin- en Lands...|deeltijd onderwijs| vrouw|      7|     13|     14|     25|     32|       3|       3|       0|       2|       1|\n",
      "|           0344|            economie|         39268|B Integrale Veili...|deeltijd onderwijs| vrouw|     12|      8|     11|     15|     22|       1|       3|       1|       3|       1|\n",
      "|           0363|            economie|         35516| B Creative Business|deeltijd onderwijs| vrouw|     59|     71|     81|    103|    135|       3|       4|       7|       8|       3|\n",
      "|           0363|           onderwijs|         80142|Ad Pedagogisch Ed...| voltijd onderwijs| vrouw|      0|      0|     14|     31|     45|       0|       0|       0|       0|       3|\n",
      "+---------------+--------------------+--------------+--------------------+------------------+------+-------+-------+-------+-------+-------+--------+--------+--------+--------+--------+\n",
      "only showing top 50 rows\n",
      "\n"
     ]
    }
   ],
   "source": [
    "df = df.withColumn(\"in_2016\", df[\"in_2016\"].cast(IntegerType())) \\\n",
    "    .withColumn(\"in_2017\", df[\"in_2017\"].cast(IntegerType())) \\\n",
    "    .withColumn(\"in_2018\", df[\"in_2018\"].cast(IntegerType())) \\\n",
    "    .withColumn(\"in_2019\", df[\"in_2019\"].cast(IntegerType())) \\\n",
    "    .withColumn(\"in_2020\", df[\"in_2020\"].cast(IntegerType())) \\\n",
    "    .withColumn(\"out_2016\", df[\"out_2016\"].cast(IntegerType())) \\\n",
    "    .withColumn(\"out_2017\", df[\"out_2017\"].cast(IntegerType())) \\\n",
    "    .withColumn(\"out_2018\", df[\"out_2018\"].cast(IntegerType())) \\\n",
    "    .withColumn(\"out_2019\", df[\"out_2019\"].cast(IntegerType())) \\\n",
    "\n",
    "print(df.count())\n",
    "df.show(50)"
   ]
  },
  {
   "cell_type": "code",
   "execution_count": 9,
   "metadata": {},
   "outputs": [
    {
     "output_type": "stream",
     "name": "stdout",
     "text": [
      "+--------------------+--------------------+------------+------------+------------+------------+------------+-------------+-------------+-------------+-------------+\n|  chrono_compartment|      ed_name_actual|sum(in_2016)|sum(in_2017)|sum(in_2018)|sum(in_2019)|sum(in_2020)|sum(out_2016)|sum(out_2017)|sum(out_2018)|sum(out_2019)|\n+--------------------+--------------------+------------+------------+------------+------------+------------+-------------+-------------+-------------+-------------+\n|     gezondheidszorg|B Oefentherapie C...|         247|         206|         213|         172|         168|           39|           55|           38|           26|\n|           onderwijs|B Opleiding tot l...|          57|          58|          59|          71|          74|           12|           11|           11|           16|\n|     gezondheidszorg|M Sport- en Bewee...|           0|           0|          51|          54|          57|            0|            0|           10|            9|\n|     taal en cultuur|           M Theater|          16|          18|          19|          16|          15|            5|           10|           10|            7|\n|     gezondheidszorg|Ad Management in ...|         224|         233|         302|         379|         435|          133|          119|          133|          205|\n|            economie| B Kunst en Economie|         872|         786|         755|         716|         694|          147|          159|          117|          118|\n|            techniek|  B Ocean Technology|         102|         105|          90|          93|          94|           14|           18|           13|           19|\n|     taal en cultuur|M Master of Music...|           0|           9|          12|          16|          15|            0|            3|            6|           10|\n|     taal en cultuur|B Interdisciplina...|          28|          31|          47|          58|          57|           12|            3|            5|           20|\n|gedrag en maatsch...|      B Sociaal Werk|        1079|         990|         952|         934|        1079|          153|          173|          156|          147|\n|            techniek|B Maritieme Techniek|         357|         370|         369|         391|         413|           40|           44|           47|           41|\n|            economie|  B Hotel Management|        7635|        7948|        7960|        8118|        8314|         1345|         1500|         1458|         1523|\n|            techniek|    M Serious Gaming|           0|           9|          24|          31|          41|            0|            0|            5|            7|\n|            economie|M Tourism Destina...|           0|          35|          76|          59|          59|            0|            4|           49|           38|\n|     gezondheidszorg|      B Huidtherapie|         773|         785|         833|         856|         866|          133|          135|          131|          178|\n|            techniek|Ad Civiele Techni...|           3|           5|           1|           1|           0|            0|            3|            0|            0|\n|            techniek|Ad Integraal Bouw...|          24|          72|          84|         113|         146|           17|           14|           22|           21|\n|            techniek|B Ruimtelijke Ont...|        1047|        1099|        1238|        1381|        1584|          181|          161|          162|          136|\n|            economie|B Tourism Management|        4822|        4789|        4569|        4450|        4334|          748|          806|          711|          746|\n|            economie|B Small Business ...|          31|          15|           0|           0|           0|           11|           13|            0|            0|\n+--------------------+--------------------+------------+------------+------------+------------+------------+-------------+-------------+-------------+-------------+\nonly showing top 20 rows\n\n"
     ]
    }
   ],
   "source": [
    "# Now that we have all individual record combined from both sheets, we can eliminate the difference in municipality_nr and gender\n",
    "# We will look at all cases where chrono_compartment, ed_code_actual, ed_name and ed_form are equal, and sum the total of the in_* and out_* fields\n",
    "df = df.groupBy([df.chrono_compartment,\n",
    "                     df.ed_code_actual,\n",
    "                     df.ed_name_actual]).sum().drop(df.ed_code_actual).drop(df.ed_form)\n",
    "df.show()"
   ]
  },
  {
   "source": [
    "### a) Bereken de kans dat een student tot tweemaal toe uitvalt bij een technische studie in de periode 2015-2020"
   ],
   "cell_type": "markdown",
   "metadata": {}
  },
  {
   "cell_type": "code",
   "execution_count": 10,
   "metadata": {},
   "outputs": [
    {
     "output_type": "stream",
     "name": "stdout",
     "text": [
      "+--------------------+--------------------+--------+---------+\n|  chrono_compartment|      ed_name_actual|in_total|out_total|\n+--------------------+--------------------+--------+---------+\n|     gezondheidszorg|B Oefentherapie C...|     838|      158|\n|           onderwijs|B Opleiding tot l...|     245|       50|\n|     gezondheidszorg|M Sport- en Bewee...|     105|       19|\n|     taal en cultuur|           M Theater|      69|       32|\n|     gezondheidszorg|Ad Management in ...|    1138|      590|\n|            economie| B Kunst en Economie|    3129|      541|\n|            techniek|  B Ocean Technology|     390|       64|\n|     taal en cultuur|M Master of Music...|      37|       19|\n|     taal en cultuur|B Interdisciplina...|     164|       40|\n|gedrag en maatsch...|      B Sociaal Werk|    3955|      629|\n|            techniek|B Maritieme Techniek|    1487|      172|\n|            economie|  B Hotel Management|   31661|     5826|\n|            techniek|    M Serious Gaming|      64|       12|\n|            economie|M Tourism Destina...|     170|       91|\n|     gezondheidszorg|      B Huidtherapie|    3247|      577|\n|            techniek|Ad Civiele Techni...|      10|        3|\n|            techniek|Ad Integraal Bouw...|     293|       74|\n|            techniek|B Ruimtelijke Ont...|    4765|      640|\n|            economie|B Tourism Management|   18630|     3011|\n|            economie|B Small Business ...|      46|       24|\n+--------------------+--------------------+--------+---------+\nonly showing top 20 rows\n\n"
     ]
    }
   ],
   "source": [
    "# All we need to do now is to calculate the total incoming and outgoing for each study in the period 2015-2020\n",
    "# We will create 2 extra columns called in_total and out_total\n",
    "# Because we have no data for 2020 outgoing, we can only rely on the years where there are both incoming and outdoing students.\n",
    "# Hence we will drop the year 2020 to get a more accurate estimate of the change\n",
    "df_sum = df\n",
    "df_sum = df_sum.withColumn(\"in_total\", sum([df_sum[\"sum(in_2016)\"], df_sum[\"sum(in_2017)\"], df_sum[\"sum(in_2018)\"], df_sum[\"sum(in_2019)\"]]))\n",
    "df_sum = df_sum.withColumn(\"out_total\", sum([df_sum[\"sum(out_2016)\"], df_sum[\"sum(out_2017)\"], df_sum[\"sum(out_2018)\"], df_sum[\"sum(out_2019)\"]]))\n",
    "df_sum = df_sum.drop(\"sum(in_2016)\").drop(\"sum(in_2017)\").drop(\"sum(in_2018)\").drop(\"sum(in_2019)\").drop(\"sum(in_2020)\").drop(\"sum(out_2016)\").drop(\"sum(out_2017)\").drop(\"sum(out_2018)\").drop(\"sum(out_2019)\")\n",
    "\n",
    "df_sum.show()"
   ]
  },
  {
   "cell_type": "code",
   "execution_count": 11,
   "metadata": {},
   "outputs": [
    {
     "output_type": "stream",
     "name": "stdout",
     "text": [
      "+--------------------+--------------------+--------+---------+-------+------------------+\n|  chrono_compartment|      ed_name_actual|in_total|out_total|dropout|     dropout_ratio|\n+--------------------+--------------------+--------+---------+-------+------------------+\n|     gezondheidszorg|B Oefentherapie C...|     838|      158|    680| 81.14558472553699|\n|           onderwijs|B Opleiding tot l...|     245|       50|    195| 79.59183673469387|\n|     gezondheidszorg|M Sport- en Bewee...|     105|       19|     86|  81.9047619047619|\n|     taal en cultuur|           M Theater|      69|       32|     37| 53.62318840579711|\n|     gezondheidszorg|Ad Management in ...|    1138|      590|    548|48.154657293497365|\n|            economie| B Kunst en Economie|    3129|      541|   2588|  82.7101310322787|\n|            techniek|  B Ocean Technology|     390|       64|    326| 83.58974358974359|\n|     taal en cultuur|M Master of Music...|      37|       19|     18| 48.64864864864865|\n|     taal en cultuur|B Interdisciplina...|     164|       40|    124| 75.60975609756098|\n|gedrag en maatsch...|      B Sociaal Werk|    3955|      629|   3326|  84.0960809102402|\n|            techniek|B Maritieme Techniek|    1487|      172|   1315| 88.43308675184936|\n|            economie|  B Hotel Management|   31661|     5826|  25835| 81.59881241906446|\n|            techniek|    M Serious Gaming|      64|       12|     52|             81.25|\n|            economie|M Tourism Destina...|     170|       91|     79|46.470588235294116|\n|     gezondheidszorg|      B Huidtherapie|    3247|      577|   2670| 82.22975053895904|\n|            techniek|Ad Civiele Techni...|      10|        3|      7|              70.0|\n|            techniek|Ad Integraal Bouw...|     293|       74|    219| 74.74402730375427|\n|            techniek|B Ruimtelijke Ont...|    4765|      640|   4125| 86.56873032528857|\n|            economie|B Tourism Management|   18630|     3011|  15619| 83.83789586688137|\n|            economie|B Small Business ...|      46|       24|     22| 47.82608695652174|\n+--------------------+--------------------+--------+---------+-------+------------------+\nonly showing top 20 rows\n\n"
     ]
    }
   ],
   "source": [
    "# Now for each row we need to calculate how many students were lost in the time period\n",
    "# This is not a super accurate measurement since it takes most students more than 4 years to graduate\n",
    "# But because this is the information we have, we will make it work\n",
    "\n",
    "df_sum = df_sum.withColumn(\"dropout\", df_sum[\"in_total\"] - df_sum[\"out_total\"])\n",
    "df_sum = df_sum.withColumn(\"dropout_ratio\", (df_sum[\"dropout\"] / df_sum[\"in_total\"]) * 100)\n",
    "df_sum.show()"
   ]
  },
  {
   "cell_type": "code",
   "execution_count": 12,
   "metadata": {},
   "outputs": [
    {
     "output_type": "stream",
     "name": "stdout",
     "text": [
      "Dropout Technical: 322902\n",
      "Total intake: 1982797\n",
      "Propability of being a technical dropout: 0.16285176949531394\n",
      "Propability of being a technical dropout twice: 0.026520698827754863\n"
     ]
    }
   ],
   "source": [
    "# Now we need to get the total number of dropouts for technical studies and the total number of intake across the board\n",
    "# We calculate the likelyhood of bering a dropout of a technical study with the folowing formula:\n",
    "# p = (dropout_technical / sum(in_total))\n",
    "# Then to calculate the chance that a student is a technical dropout twice by doing\n",
    "# p_dropout_twice = p ** 2\n",
    "\n",
    "dropout_technical = df_sum.filter(df_sum.chrono_compartment == \"techniek\").agg(F.sum(\"dropout\")).collect()[0][0]\n",
    "print(f\"Dropout Technical: {dropout_technical}\")\n",
    "in_total = df_sum.agg(F.sum(\"in_total\")).collect()[0][0]\n",
    "print(f\"Total intake: {in_total}\")\n",
    "p = (dropout_technical / in_total)\n",
    "print(f\"Propability of being a technical dropout: {p}\")\n",
    "p_dropout_twice = p ** 2\n",
    "print(f\"Propability of being a technical dropout twice: {p_dropout_twice}\")"
   ]
  },
  {
   "source": [
    "### b) Bereken een belief distribution voor de kans dat een student zowel geslaagde als uitvaller is"
   ],
   "cell_type": "markdown",
   "metadata": {}
  },
  {
   "cell_type": "code",
   "execution_count": 13,
   "metadata": {},
   "outputs": [
    {
     "output_type": "stream",
     "name": "stdout",
     "text": [
      "Total dropouts: 1656918\n",
      "P of being a dropout: 0.8356468160885859\n",
      "Total graduates: 325879\n",
      "P of being graduated: 0.16435318391141404\n",
      "P of being both graduated and a dropout: 0.13734121484959494\n"
     ]
    }
   ],
   "source": [
    "# We do this my calculating the chance that a student has graduated\n",
    "# Then we calculate the chance that a student is a dropout\n",
    "# Then we multiply the chance of graduation with the chance of being a dropout\n",
    "\n",
    "total_dropout = df_sum.agg(F.sum(\"dropout\")).collect()[0][0]\n",
    "print(f\"Total dropouts: {total_dropout}\")\n",
    "p_dropout = total_dropout / in_total\n",
    "print(f\"P of being a dropout: {p_dropout}\")\n",
    "total_graduated = df_sum.agg(F.sum(\"out_total\")).collect()[0][0]\n",
    "print(f\"Total graduates: {total_graduated}\")\n",
    "p_graduated = total_graduated / in_total\n",
    "print(f\"P of being graduated: {p_graduated}\")\n",
    "p = p_graduated * p_dropout\n",
    "print(f\"P of being both graduated and a dropout: {p}\")\n"
   ]
  },
  {
   "source": [
    "### c) Bereken de kans dat een student van Business Studies daarna inschrijft voor een opleiding in het sociale domein, binnen 2 jaar na"
   ],
   "cell_type": "markdown",
   "metadata": {}
  },
  {
   "cell_type": "code",
   "execution_count": 14,
   "metadata": {},
   "outputs": [],
   "source": [
    "df = df.withColumnRenamed(\"sum(in_2016)\", \"in_2016\") \\\n",
    "        .withColumnRenamed(\"sum(in_2017)\", \"in_2017\") \\\n",
    "        .withColumnRenamed(\"sum(in_2018)\", \"in_2018\") \\\n",
    "        .withColumnRenamed(\"sum(in_2019)\", \"in_2019\") \\\n",
    "        .withColumnRenamed(\"sum(in_2020)\", \"in_2020\") \\\n",
    "        .withColumnRenamed(\"sum(out_2016)\", \"out_2016\") \\\n",
    "        .withColumnRenamed(\"sum(out_2017)\", \"out_2017\") \\\n",
    "        .withColumnRenamed(\"sum(out_2018)\", \"out_2018\") \\\n",
    "        .withColumnRenamed(\"sum(out_2019)\", \"out_2019\")"
   ]
  },
  {
   "cell_type": "code",
   "execution_count": 15,
   "metadata": {},
   "outputs": [
    {
     "output_type": "stream",
     "name": "stdout",
     "text": [
      "Total business studies graduates in 2016: 536\n",
      "Total business studies graduates in 2017: 904\n",
      "Total business studies graduates in 2018: 416\n",
      "Total social intake 2017: 67564\n",
      "Total social intake 2018: 65019\n",
      "Total social intake 2019: 64794\n",
      "Total social intake 2020: 67976\n"
     ]
    }
   ],
   "source": [
    "# With the original df we will look at the chance that a graduate from business studies enrolls for a social study within 2 years of graduation\n",
    "# We need to know how many \"B Business Studies\" graduates there are for each year\n",
    "# Then we need to calculate what the total number of intake is for the social studies (\"gedrag en maatschappij\") for the next year and the year after that\n",
    "# Then we calculate the chance that the business studies graduate enrolls in the total intake of the next 2 years\n",
    "# We repeat this process for the business studies graduates years 2016, 2017 and 2018\n",
    "# This way we still know what the chance is that the student enrolls in either 2019 or 2020\n",
    "\n",
    "bs_grads = df.filter(df[\"ed_name_actual\"] == \"B Business Studies\")\n",
    "\n",
    "bs_grad_2016 = bs_grads.agg(F.sum(\"out_2016\")).collect()[0][0]\n",
    "print(f\"Total business studies graduates in 2016: {bs_grad_2016}\")\n",
    "bs_grad_2017 = bs_grads.agg(F.sum(\"out_2017\")).collect()[0][0]\n",
    "print(f\"Total business studies graduates in 2017: {bs_grad_2017}\")\n",
    "bs_grad_2018 = bs_grads.agg(F.sum(\"out_2018\")).collect()[0][0]\n",
    "print(f\"Total business studies graduates in 2018: {bs_grad_2018}\")\n",
    "\n",
    "in_social = df.filter(df[\"chrono_compartment\"] == \"gedrag en maatschappij\")\n",
    "\n",
    "in_social_2017 = in_social.agg(F.sum(\"in_2017\")).collect()[0][0]\n",
    "print(f\"Total social intake 2017: {in_social_2017}\")\n",
    "in_social_2018 = in_social.agg(F.sum(\"in_2018\")).collect()[0][0]\n",
    "print(f\"Total social intake 2018: {in_social_2018}\")\n",
    "in_social_2019 = in_social.agg(F.sum(\"in_2019\")).collect()[0][0]\n",
    "print(f\"Total social intake 2019: {in_social_2019}\")\n",
    "in_social_2020 = in_social.agg(F.sum(\"in_2020\")).collect()[0][0]\n",
    "print(f\"Total social intake 2020: {in_social_2020}\")"
   ]
  },
  {
   "cell_type": "code",
   "execution_count": 16,
   "metadata": {},
   "outputs": [
    {
     "output_type": "stream",
     "name": "stdout",
     "text": [
      "P re-enrollment in 2016 - 2018: 0.004042750578882662\nP re-enrollment in 2017 - 2019: 0.006963863403511204\nP re-enrollment in 2018 - 2020: 0.0031332379302553286\n"
     ]
    }
   ],
   "source": [
    "# The dataset contains no data on what happends with graduates after they graduate\n",
    "# This means that we simply cannot know which graduated students enrolled again in the social domain\n",
    "# We can however, calculate the chance that any given graduate is also enrolled in a social study in the next year and the year after that\n",
    "\n",
    "p_reenrolled_2016_2018 = bs_grad_2016 / (in_social_2017 + in_social_2018)\n",
    "p_reenrolled_2017_2019 = bs_grad_2017 / (in_social_2018 + in_social_2019)\n",
    "p_reenrolled_2018_2020 = bs_grad_2018 / (in_social_2019 + in_social_2020)\n",
    "print(f\"P re-enrollment in 2016 - 2018: {p_reenrolled_2016_2018}\")\n",
    "print(f\"P re-enrollment in 2017 - 2019: {p_reenrolled_2017_2019}\")\n",
    "print(f\"P re-enrollment in 2018 - 2020: {p_reenrolled_2018_2020}\")"
   ]
  },
  {
   "cell_type": "code",
   "execution_count": 17,
   "metadata": {},
   "outputs": [
    {
     "output_type": "stream",
     "name": "stdout",
     "text": [
      "Sum P of re-enrollment in period: 0.014139851912649194\nAvg P of re-enrollment in period: 0.0047132839708830645\n"
     ]
    }
   ],
   "source": [
    "# Lastly we can calculate the average change over the entire period\n",
    "p_total = p_reenrolled_2016_2018 + p_reenrolled_2017_2019 + p_reenrolled_2018_2020\n",
    "print(f\"Sum P of re-enrollment in period: {p_total}\")\n",
    "p_avg = p_total / 3\n",
    "print(f\"Avg P of re-enrollment in period: {p_avg}\")"
   ]
  },
  {
   "source": [
    "This means that the total chance of a given graduate from business studies being re-enrolled in social studies over the entire time period is\n",
    "0.014139851912649194\n",
    "\n",
    "The average propability of all the time periods is 0.0047132839708830645"
   ],
   "cell_type": "markdown",
   "metadata": {}
  },
  {
   "cell_type": "code",
   "execution_count": 18,
   "metadata": {},
   "outputs": [],
   "source": [
    "spark.stop()"
   ]
  }
 ]
}