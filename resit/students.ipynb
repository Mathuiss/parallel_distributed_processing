{
 "metadata": {
  "orig_nbformat": 2,
  "kernelspec": {
   "name": "python385jvsc74a57bd031f2aee4e71d21fbe5cf8b01ff0e069b9275f58929596ceb00d14d90e3e16cd6",
   "display_name": "Python 3.8.5 64-bit"
  },
  "metadata": {
   "interpreter": {
    "hash": "31f2aee4e71d21fbe5cf8b01ff0e069b9275f58929596ceb00d14d90e3e16cd6"
   }
  }
 },
 "nbformat": 4,
 "nbformat_minor": 2,
 "cells": [
  {
   "source": [
    "## Studenten opdracht\n",
    "\n",
    "De dataset van het CBS bestaan uit inschrijvingen en diplomauitreikingen van studenten in de periode 2015-2020.\n",
    "In de originele vraag A ging het over de periode 2008-2015. Omdat deze data niet meer beschikbaar is zal er moeten worden gekozen om de periode 2015-2020 aan te houden.\n",
    "\n",
    "Opdracht:\n",
    "- a) Bereken de kans dat een student tot tweemaal toe uitvalt bij een technische studie in de periode 2015-2020\n",
    "- b) Bereken een belief distribution voor de kans dat een student zowel geslaagde als uitvaller is\n",
    "- c) Bereken de kans dat een student van Business Studies daarna inschrijft voor een opleiding in het sociale domein, binnen 2 jaar na.\n",
    "\n"
   ],
   "cell_type": "markdown",
   "metadata": {}
  },
  {
   "cell_type": "code",
   "execution_count": 1,
   "metadata": {},
   "outputs": [],
   "source": [
    "import pyspark\n",
    "import findspark\n",
    "from pyspark.sql import SparkSession\n",
    "from pyspark.sql import SQLContext\n",
    "from pyspark.sql import Row\n",
    "from pyspark.sql.types import IntegerType"
   ]
  },
  {
   "cell_type": "code",
   "execution_count": 2,
   "metadata": {},
   "outputs": [],
   "source": [
    "# Create findspark instance\n",
    "findspark.init()\n",
    "\n",
    "# Create spark session\n",
    "spark = SparkSession.builder.master(\"local\").appName(\"Linear Regression Model\").config(\"spark.executor.memory\", \"1gb\").getOrCreate()"
   ]
  },
  {
   "cell_type": "code",
   "execution_count": 3,
   "metadata": {},
   "outputs": [],
   "source": [
    "# Load spark context entry\n",
    "sc = spark.sparkContext"
   ]
  },
  {
   "source": [
    "## Preprocessing\n",
    "Tijdens deze stap proberen we data van de instroom te combineren met data van de geslaagden over dezelfde periode.\n",
    "De bedoeling is dat er twee dataframes worden geladen en worden gecombineerd.\n",
    "Het resultaat is dat we een dataset krijgen waarbij per provincie, gemeente, opleiding en jaar kunnen zien hoeveel instroom en uitstroom er is."
   ],
   "cell_type": "markdown",
   "metadata": {}
  },
  {
   "cell_type": "code",
   "execution_count": 4,
   "metadata": {},
   "outputs": [],
   "source": [
    "# Loading both text files\n",
    "data_intake = sc.textFile(\"04-inschrijvingen-hbo-2020.csv\")\n",
    "data_outgoing = sc.textFile(\"05-gediplomeerden-hbo-2020.csv\")"
   ]
  },
  {
   "cell_type": "code",
   "execution_count": 5,
   "metadata": {},
   "outputs": [],
   "source": [
    "# Map the columns split by the delimiter=; into a new dataframe\n",
    "# This changes the RDD from a text file to a 2D array\n",
    "header_in = data_intake.first()\n",
    "header_out = data_outgoing.first()\n",
    "\n",
    "data_intake = data_intake.filter(lambda line: line != header_in).map(lambda line: line.lstrip(\";\").split(\";\"))\n",
    "data_outgoing = data_outgoing.filter(lambda line: line != header_out).map(lambda line: line.lstrip(\";\").split(\";\"))"
   ]
  },
  {
   "cell_type": "code",
   "execution_count": 6,
   "metadata": {},
   "outputs": [],
   "source": [
    "# For both arrays we are going to build a spark DataFrame, which will allow us to do further processing\n",
    "df_intake = data_intake.map(lambda row: Row(municipality_nr=row[1],\n",
    "                                            chrono_compartment=row[7],\n",
    "                                            ed_code_actual=row[9],\n",
    "                                            ed_name_actual=row[10],\n",
    "                                            ed_form=row[11],\n",
    "                                            gender=row[12],\n",
    "                                            in_2016=row[13],\n",
    "                                            in_2017=row[14],\n",
    "                                            in_2018=row[15],\n",
    "                                            in_2019=row[16],\n",
    "                                            in_2020=row[17]\n",
    "                                            )).toDF()\n",
    "\n",
    "df_outgoing = data_outgoing.map(lambda row: Row(municipality_nr=row[1],\n",
    "                                            chrono_compartment=row[6],\n",
    "                                            ed_code_actual=row[8],\n",
    "                                            ed_name_actual=row[9],\n",
    "                                            ed_form=row[10],\n",
    "                                            gender=row[12],\n",
    "                                            out_2015=row[13],\n",
    "                                            out_2016=row[14],\n",
    "                                            out_2017=row[15],\n",
    "                                            out_2018=row[16],\n",
    "                                            out_2019=row[17]\n",
    "                                            )).toDF()"
   ]
  },
  {
   "cell_type": "code",
   "execution_count": 7,
   "metadata": {
    "tags": []
   },
   "outputs": [],
   "source": [
    "df = df_intake.join(df_outgoing, [\"municipality_nr\", \"chrono_compartment\" ,\"ed_code_actual\", \"ed_name_actual\", \"ed_form\", \"gender\"], how=\"inner\")"
   ]
  },
  {
   "cell_type": "code",
   "execution_count": 8,
   "metadata": {},
   "outputs": [
    {
     "output_type": "stream",
     "name": "stdout",
     "text": [
      "4035\n",
      "+---------------+--------------------+--------------+--------------------+------------------+------+-------+-------+-------+-------+-------+--------+--------+--------+--------+--------+\n",
      "|municipality_nr|  chrono_compartment|ed_code_actual|      ed_name_actual|           ed_form|gender|in_2016|in_2017|in_2018|in_2019|in_2020|out_2015|out_2016|out_2017|out_2018|out_2019|\n",
      "+---------------+--------------------+--------------+--------------------+------------------+------+-------+-------+-------+-------+-------+--------+--------+--------+--------+--------+\n",
      "|           0034|           onderwijs|         44103| M Educational Needs|deeltijd onderwijs|   man|      0|      4|      8|      7|      2|       0|       0|       0|       2|       5|\n",
      "|           0034|            techniek|         30020|           B HBO-ICT| voltijd onderwijs|   man|    239|    281|    344|    427|    477|      23|      24|      25|      30|      40|\n",
      "|           0080|  sectoroverstijgend|         49302|M Design Driven I...| voltijd onderwijs| vrouw|      0|      0|      0|      7|     17|       0|       0|       0|       0|       3|\n",
      "|           0289|landbouw en natuu...|         44135|M Leren en Innoveren|deeltijd onderwijs| vrouw|     50|     53|     56|     61|     59|      17|       9|      17|      16|      14|\n",
      "|           0307|     gezondheidszorg|         34538|B Management in d...| voltijd onderwijs| vrouw|    166|    144|    127|    133|    157|      22|      38|      37|      30|      24|\n",
      "|           0344|gedrag en maatsch...|         34116|       B Social Work|deeltijd onderwijs| vrouw|     91|    121|    166|    173|    187|      19|      14|      19|      12|      15|\n",
      "|           0599|            techniek|         30018|        B Automotive| voltijd onderwijs|   man|    283|    270|    298|    309|    304|      20|      31|      36|      41|      33|\n",
      "|           0758|gedrag en maatsch...|         34116|       B Social Work| voltijd onderwijs|   man|    170|    158|    164|    154|    170|      17|      26|      22|      13|      19|\n",
      "|           0772|     gezondheidszorg|         80131|Ad Zorg en Techno...|deeltijd onderwijs|   man|      0|      0|      1|      4|      5|       0|       0|       0|       0|       1|\n",
      "|           0855|           onderwijs|         45267|M Leraar Geschied...|deeltijd onderwijs|   man|     60|     62|     53|     49|     51|      14|      12|      10|       6|      12|\n",
      "|           0855|     taal en cultuur|         30014|B Circus and Perf...| voltijd onderwijs| vrouw|     39|     41|     46|     46|     42|       3|       8|       5|       7|      12|\n",
      "|           0014|            techniek|         34280| B Werktuigbouwkunde| voltijd onderwijs| vrouw|     14|     12|     14|     25|     19|       2|       3|       1|       0|       5|\n",
      "|           0114|            techniek|         34280| B Werktuigbouwkunde|   duaal onderwijs|   man|      0|      0|      0|     10|     13|       0|       0|       0|       0|       1|\n",
      "|           0193|            economie|         34406|       B Accountancy|deeltijd onderwijs| vrouw|      5|      4|      0|      0|      0|       0|       2|       4|       0|       0|\n",
      "|           0228|     gezondheidszorg|         34560|B Opleiding tot V...|   duaal onderwijs| vrouw|    162|    175|    185|    217|    224|      40|      42|      57|      29|      39|\n",
      "|           0268|            techniek|         34396|            B Chemie|deeltijd onderwijs|   man|     20|     22|     23|     21|     20|       3|       0|       2|       0|       1|\n",
      "|           0344|     taal en cultuur|         39110|B Autonome Beelde...| voltijd onderwijs|   man|     50|     43|     47|     55|     57|      18|       7|      11|       9|       9|\n",
      "|           0363|            economie|         35520| B Finance & Control|deeltijd onderwijs|   man|    251|    225|    208|    206|    218|      32|      50|      34|      33|      12|\n",
      "|           0363|           onderwijs|         35196|B Opleiding tot l...| voltijd onderwijs| vrouw|     57|     52|     52|     39|     39|       8|       9|      10|       8|      10|\n",
      "|           0363|     taal en cultuur|         34860|           B Theater| voltijd onderwijs|   man|    105|    115|    101|    104|    106|      19|      21|      27|      20|      23|\n",
      "|           0384|            economie|         35515|B Business Innova...| voltijd onderwijs|   man|    102|    132|    145|    150|    136|       0|       0|       7|       6|      12|\n",
      "|           0518|            techniek|         34092|B Communication a...| voltijd onderwijs|   man|    435|    411|    419|    376|    371|      87|      58|      74|      70|      54|\n",
      "|           0599|            economie|         34406|       B Accountancy| voltijd onderwijs|   man|    439|    439|    430|    406|    394|      39|      42|      46|      35|      41|\n",
      "|           0599|            economie|         34406|       B Accountancy| voltijd onderwijs|   man|    439|    439|    430|    406|    394|       3|       2|       2|       0|       1|\n",
      "|           0599|            economie|         34406|       B Accountancy| voltijd onderwijs|   man|     45|     45|     41|     51|     46|      39|      42|      46|      35|      41|\n",
      "|           0599|            economie|         34406|       B Accountancy| voltijd onderwijs|   man|     45|     45|     41|     51|     46|       3|       2|       2|       0|       1|\n",
      "|           0599|gedrag en maatsch...|         44113|        M Pedagogiek|deeltijd onderwijs| vrouw|     41|     47|     48|     42|     36|       8|       8|       9|      11|      16|\n",
      "|           0599|           onderwijs|         35210|B Opleiding tot l...|deeltijd onderwijs| vrouw|      6|      3|      4|      4|      8|       0|       2|       1|       1|       0|\n",
      "|           0599|           onderwijs|         35301|B Opleiding tot l...|deeltijd onderwijs| vrouw|     40|     39|     36|     34|     35|       1|       4|       5|       5|       5|\n",
      "|           0718|            economie|         34402|B Commerciele Eco...| voltijd onderwijs|   man|    141|    132|    134|    125|    123|      30|      23|      21|      22|      21|\n",
      "|           0758|            economie|         34405|      B Communicatie| voltijd onderwijs| vrouw|    255|    246|    260|    286|    300|      26|      67|      61|      42|      36|\n",
      "|           0758|            economie|         35522|B Logistics Manag...| voltijd onderwijs| vrouw|    109|    103|    103|     99|     93|      14|      20|      20|      18|      26|\n",
      "|           0796|            economie|         34406|       B Accountancy|deeltijd onderwijs| vrouw|     15|     17|     13|     10|      9|       1|       0|       0|       0|       0|\n",
      "|           0855|     taal en cultuur|         34739|            B Muziek| voltijd onderwijs| vrouw|    140|    133|    131|    134|    127|      32|      36|      20|      37|      26|\n",
      "|           1883|            economie|         34402|B Commerciele Eco...| voltijd onderwijs|   man|    524|    479|    435|    418|    452|      85|      86|      85|      73|      57|\n",
      "|           0014|           onderwijs|         39112|     B Docent Muziek| voltijd onderwijs|   man|     28|     20|     19|     21|     21|       4|       5|       3|       4|       4|\n",
      "|           0014|     taal en cultuur|         39111|        B Vormgeving| voltijd onderwijs|   man|     89|     90|    102|     72|     72|      16|      12|      20|      22|      20|\n",
      "|           0080|            economie|         80010|Ad Ondernemerscha...| voltijd onderwijs|   man|     47|     39|     40|     29|     53|      15|       3|       8|       6|       6|\n",
      "|           0080|landbouw en natuu...|         34868|B Tuinbouw en Akk...| voltijd onderwijs| vrouw|     11|     11|     12|     11|     11|       0|       1|       0|       3|       3|\n",
      "|           0080|           onderwijs|         35261|B Opleiding tot l...| voltijd onderwijs| vrouw|     13|     13|     13|     11|      8|       0|       2|       0|       1|       2|\n",
      "|           0080|     taal en cultuur|         30041|   B Popular Culture| voltijd onderwijs|   man|    164|    136|    139|    120|    131|      23|      27|      25|      28|      17|\n",
      "|           0106|            techniek|         34267|   B Elektrotechniek| voltijd onderwijs| vrouw|     11|     10|      9|      7|      5|       2|       2|       2|       0|       2|\n",
      "|           0153|     taal en cultuur|         39206|    B Muziektherapie| voltijd onderwijs|   man|      3|      6|      5|      7|     15|       2|       0|       1|       0|       1|\n",
      "|           0193|           onderwijs|         35210|B Opleiding tot l...|deeltijd onderwijs| vrouw|      5|     11|     12|     17|     19|       4|       0|       1|       0|       1|\n",
      "|           0275|landbouw en natuu...|         34226|B Land- en Waterm...|deeltijd onderwijs| vrouw|     11|     10|      4|      2|      4|       0|       1|       3|       2|       0|\n",
      "|           0275|landbouw en natuu...|         34869|B Dier- en Veehou...| voltijd onderwijs|   man|     41|     30|     33|     33|     27|       1|       8|       2|       1|       7|\n",
      "|           0275|landbouw en natuu...|         80068|Ad Tuin- en Lands...|deeltijd onderwijs| vrouw|      7|     13|     14|     25|     32|       3|       3|       0|       2|       1|\n",
      "|           0344|            economie|         39268|B Integrale Veili...|deeltijd onderwijs| vrouw|     12|      8|     11|     15|     22|       1|       3|       1|       3|       1|\n",
      "|           0363|            economie|         35516| B Creative Business|deeltijd onderwijs| vrouw|     59|     71|     81|    103|    135|       3|       4|       7|       8|       3|\n",
      "|           0363|           onderwijs|         80142|Ad Pedagogisch Ed...| voltijd onderwijs| vrouw|      0|      0|     14|     31|     45|       0|       0|       0|       0|       3|\n",
      "+---------------+--------------------+--------------+--------------------+------------------+------+-------+-------+-------+-------+-------+--------+--------+--------+--------+--------+\n",
      "only showing top 50 rows\n",
      "\n"
     ]
    }
   ],
   "source": [
    "df = df.withColumn(\"in_2016\", df[\"in_2016\"].cast(IntegerType())) \\\n",
    "    .withColumn(\"in_2017\", df[\"in_2017\"].cast(IntegerType())) \\\n",
    "    .withColumn(\"in_2018\", df[\"in_2018\"].cast(IntegerType())) \\\n",
    "    .withColumn(\"in_2019\", df[\"in_2019\"].cast(IntegerType())) \\\n",
    "    .withColumn(\"in_2020\", df[\"in_2020\"].cast(IntegerType())) \\\n",
    "    .withColumn(\"out_2016\", df[\"out_2016\"].cast(IntegerType())) \\\n",
    "    .withColumn(\"out_2017\", df[\"out_2017\"].cast(IntegerType())) \\\n",
    "    .withColumn(\"out_2018\", df[\"out_2018\"].cast(IntegerType())) \\\n",
    "    .withColumn(\"out_2019\", df[\"out_2019\"].cast(IntegerType())) \\\n",
    "\n",
    "print(df.count())\n",
    "df.show(50)"
   ]
  },
  {
   "cell_type": "code",
   "execution_count": 9,
   "metadata": {},
   "outputs": [
    {
     "output_type": "error",
     "ename": "SyntaxError",
     "evalue": "invalid syntax (<ipython-input-9-9aa0940676bc>, line 4)",
     "traceback": [
      "\u001b[0;36m  File \u001b[0;32m\"<ipython-input-9-9aa0940676bc>\"\u001b[0;36m, line \u001b[0;32m4\u001b[0m\n\u001b[0;31m    df.\u001b[0m\n\u001b[0m       ^\u001b[0m\n\u001b[0;31mSyntaxError\u001b[0m\u001b[0;31m:\u001b[0m invalid syntax\n"
     ]
    }
   ],
   "source": [
    "# Now that we have all individual record combined from both sheets, we can eliminate the difference in municipality_nr and gender\n",
    "# We will look at all cases where chrono_compartment, ed_code_actual, ed_name and ed_form are equal, and sum the total of the in_* and out_* fields\n",
    "\n",
    "def sum_rows(row):\n",
    "    res = df.filter((df.chrono_compartment == row.chrono_compartment) & \\\n",
    "        (df.ed_code_actual == row.ed_code_actual) & \\\n",
    "        (df.ed_name == row.ed_name) & \\\n",
    "        (df.ed_form == row.ed_form))\n",
    "\n",
    "df_new = df.rdd.map(lambda x: df.filter())"
   ]
  }
 ]
}