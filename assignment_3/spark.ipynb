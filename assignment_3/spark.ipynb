{
 "cells": [
  {
   "cell_type": "markdown",
   "metadata": {},
   "source": [
    "# Assignment 3 - Spark"
   ]
  },
  {
   "cell_type": "code",
   "execution_count": 1,
   "metadata": {},
   "outputs": [],
   "source": [
    "import findspark\n",
    "import pyspark\n",
    "from pyspark.sql import SQLContext\n",
    "from pyspark.sql import SparkSession\n",
    "from pyspark.sql import Row\n",
    "from pyspark.sql.types import *\n",
    "from pyspark.sql.functions import *\n",
    "from pyspark.ml.feature import StringIndexer\n",
    "import statistics"
   ]
  },
  {
   "cell_type": "markdown",
   "metadata": {},
   "source": [
    "First, Spark has to be initialized. This is done by finding the Spark package and building Spark into a local variable."
   ]
  },
  {
   "cell_type": "code",
   "execution_count": 2,
   "metadata": {},
   "outputs": [],
   "source": [
    "# init spark\n",
    "findspark.init()\n",
    "\n",
    "# declare a local variable to work with\n",
    "spark = SparkSession.builder.master(\"local\").appName(\"Linear Regression Model\").config(\"spark.executor.memory\", \"1gb\").getOrCreate()\n",
    "\n",
    "# declare sql context for using queries without a DB\n",
    "sc = spark.sparkContext\n",
    "sqlContext = SQLContext(sc)"
   ]
  },
  {
   "cell_type": "markdown",
   "metadata": {},
   "source": [
    "The dataset has to be loaded in order to expermiment with"
   ]
  },
  {
   "cell_type": "code",
   "execution_count": 3,
   "metadata": {},
   "outputs": [],
   "source": [
    "# loading the dataset\n",
    "dataset = sc.textFile('titanic.csv')"
   ]
  },
  {
   "cell_type": "markdown",
   "metadata": {},
   "source": [
    "For example, the first five records can be shown using the `take` function"
   ]
  },
  {
   "cell_type": "code",
   "execution_count": 56,
   "metadata": {},
   "outputs": [
    {
     "output_type": "execute_result",
     "data": {
      "text/plain": "[['0', '3', 'Mr. Owen Harris Braund', 'male', '22', '1', '0', '7.25'],\n ['1',\n  '1',\n  'Mrs. John Bradley (Florence Briggs Thayer) Cumings',\n  'female',\n  '38',\n  '1',\n  '0',\n  '71.2833'],\n ['1', '3', 'Miss. Laina Heikkinen', 'female', '26', '0', '0', '7.925'],\n ['1',\n  '1',\n  'Mrs. Jacques Heath (Lily May Peel) Futrelle',\n  'female',\n  '35',\n  '1',\n  '0',\n  '53.1'],\n ['0', '3', 'Mr. William Henry Allen', 'male', '35', '0', '0', '8.05']]"
     },
     "metadata": {},
     "execution_count": 56
    }
   ],
   "source": [
    "# show first five rows of the dataset in readible format\n",
    "dataset.take(5)"
   ]
  },
  {
   "cell_type": "markdown",
   "metadata": {},
   "source": [
    "The dataset can be converted into readible rows. We won't do this in our assignment. We are going to work with dataframes."
   ]
  },
  {
   "cell_type": "code",
   "execution_count": 5,
   "metadata": {},
   "outputs": [
    {
     "output_type": "execute_result",
     "data": {
      "text/plain": "[['Survived',\n  'Pclass',\n  'Name',\n  'Sex',\n  'Age',\n  'Siblings/Spouses Aboard',\n  'Parents/Children Aboard',\n  'Fare'],\n ['1',\n  '3',\n  'Mrs. Thomas Henry (Mary E Finck) Davison',\n  'female',\n  '34',\n  '1',\n  '0',\n  '16.1'],\n ['1',\n  '3',\n  \"Mrs. Thomas (Johanna Godfrey) O'Brien\",\n  'female',\n  '26',\n  '1',\n  '0',\n  '15.5'],\n ['1',\n  '3',\n  'Mrs. Stanton (Rosa Hunt) Abbott',\n  'female',\n  '35',\n  '1',\n  '1',\n  '20.25'],\n ['1',\n  '3',\n  'Mrs. Solomon (Latifa Qurban) Baclini',\n  'female',\n  '24',\n  '0',\n  '3',\n  '19.2583']]"
     },
     "metadata": {},
     "execution_count": 5
    }
   ],
   "source": [
    "# split the dataset using a lambda function\n",
    "dataset = dataset.map(lambda line: line.split(\",\"))\n",
    "\n",
    "# showing the top five rows from the dataset\n",
    "dataset.top(5)"
   ]
  },
  {
   "cell_type": "markdown",
   "metadata": {},
   "source": [
    "The following code wil convert the dataset into a dataframe. How does this work?\n",
    "The dataset is mapped with a lambda function to get the data from each row."
   ]
  },
  {
   "cell_type": "code",
   "execution_count": 11,
   "metadata": {},
   "outputs": [],
   "source": [
    "# generate the dataframe using the right columns\n",
    "dataframe = dataset.map(lambda line: Row(survived_indicator = line[0], \n",
    "                                         passenger_class = line[1], \n",
    "                                         name = line[2], \n",
    "                                         sex = line[3],\n",
    "                                         age = line[4],\n",
    "                                         siblings_aboard = line[5],\n",
    "                                         parents_aboard = line[6],\n",
    "                                         fare_paid_in_pounds = line[7])).toDF()"
   ]
  },
  {
   "cell_type": "markdown",
   "metadata": {},
   "source": [
    "The dataframe can be shown using the `show()` function."
   ]
  },
  {
   "cell_type": "code",
   "execution_count": 12,
   "metadata": {
    "tags": []
   },
   "outputs": [
    {
     "output_type": "stream",
     "name": "stdout",
     "text": "+------------------+---------------+--------------------+------+---+---------------+--------------+-------------------+\n|survived_indicator|passenger_class|                name|   sex|age|siblings_aboard|parents_aboard|fare_paid_in_pounds|\n+------------------+---------------+--------------------+------+---+---------------+--------------+-------------------+\n|                 0|              3|Mr. Owen Harris B...|  male| 22|              1|             0|               7.25|\n|                 1|              1|Mrs. John Bradley...|female| 38|              1|             0|            71.2833|\n|                 1|              3|Miss. Laina Heikk...|female| 26|              0|             0|              7.925|\n|                 1|              1|Mrs. Jacques Heat...|female| 35|              1|             0|               53.1|\n|                 0|              3|Mr. William Henry...|  male| 35|              0|             0|               8.05|\n|                 0|              3|     Mr. James Moran|  male| 27|              0|             0|             8.4583|\n|                 0|              1|Mr. Timothy J McC...|  male| 54|              0|             0|            51.8625|\n|                 0|              3|Master. Gosta Leo...|  male|  2|              3|             1|             21.075|\n|                 1|              3|Mrs. Oscar W (Eli...|female| 27|              0|             2|            11.1333|\n|                 1|              2|Mrs. Nicholas (Ad...|female| 14|              1|             0|            30.0708|\n|                 1|              3|Miss. Marguerite ...|female|  4|              1|             1|               16.7|\n|                 1|              1|Miss. Elizabeth B...|female| 58|              0|             0|              26.55|\n|                 0|              3|Mr. William Henry...|  male| 20|              0|             0|               8.05|\n|                 0|              3|Mr. Anders Johan ...|  male| 39|              1|             5|             31.275|\n|                 0|              3|Miss. Hulda Amand...|female| 14|              0|             0|             7.8542|\n|                 1|              2|Mrs. (Mary D King...|female| 55|              0|             0|                 16|\n|                 0|              3| Master. Eugene Rice|  male|  2|              4|             1|             29.125|\n|                 1|              2|Mr. Charles Eugen...|  male| 23|              0|             0|                 13|\n|                 0|              3|Mrs. Julius (Emel...|female| 31|              1|             0|                 18|\n|                 1|              3|Mrs. Fatima Masse...|female| 22|              0|             0|              7.225|\n+------------------+---------------+--------------------+------+---+---------------+--------------+-------------------+\nonly showing top 20 rows\n\n"
    }
   ],
   "source": [
    "dataframe.show()"
   ]
  },
  {
   "cell_type": "markdown",
   "metadata": {},
   "source": [
    "Before we can do any magic on these data, the integers have to be converted into floats. It will be easier to work with the same data types later on."
   ]
  },
  {
   "cell_type": "code",
   "execution_count": 13,
   "metadata": {},
   "outputs": [],
   "source": [
    "# convert the columns\n",
    "dataframe = dataframe.withColumn(\"survived_indicator\", dataframe[\"survived_indicator\"].cast(FloatType())) \\\n",
    ".withColumn(\"passenger_class\", dataframe[\"passenger_class\"].cast(FloatType())) \\\n",
    ".withColumn(\"age\", dataframe[\"age\"].cast(FloatType())) \\\n",
    ".withColumn(\"siblings_aboard\", dataframe[\"siblings_aboard\"].cast(FloatType())) \\\n",
    ".withColumn(\"parents_aboard\", dataframe[\"parents_aboard\"].cast(FloatType())) \\\n",
    ".withColumn(\"fare_paid_in_pounds\", dataframe[\"fare_paid_in_pounds\"].cast(FloatType())) "
   ]
  },
  {
   "cell_type": "markdown",
   "metadata": {},
   "source": [
    "Also, the sex has to be converted into numeric values. Spark can't read text."
   ]
  },
  {
   "cell_type": "code",
   "execution_count": 14,
   "metadata": {},
   "outputs": [],
   "source": [
    "# convert sex to sexIndex\n",
    "indexer = StringIndexer(inputCol=\"sex\", outputCol=\"sexIndex\")\n",
    "\n",
    "# transform the data\n",
    "dataframe = indexer.fit(dataframe).transform(dataframe)\n",
    "\n",
    "# select the right columns\n",
    "dataframe = dataframe.select(\"survived_indicator\", \"passenger_class\", \"sexIndex\", \"age\", \"fare_paid_in_pounds\")"
   ]
  },
  {
   "cell_type": "code",
   "execution_count": 15,
   "metadata": {
    "tags": []
   },
   "outputs": [
    {
     "output_type": "stream",
     "name": "stdout",
     "text": "+------------------+---------------+--------+----+-------------------+\n|survived_indicator|passenger_class|sexIndex| age|fare_paid_in_pounds|\n+------------------+---------------+--------+----+-------------------+\n|               0.0|            3.0|     0.0|22.0|               7.25|\n|               1.0|            1.0|     1.0|38.0|            71.2833|\n|               1.0|            3.0|     1.0|26.0|              7.925|\n|               1.0|            1.0|     1.0|35.0|               53.1|\n|               0.0|            3.0|     0.0|35.0|               8.05|\n|               0.0|            3.0|     0.0|27.0|             8.4583|\n|               0.0|            1.0|     0.0|54.0|            51.8625|\n|               0.0|            3.0|     0.0| 2.0|             21.075|\n|               1.0|            3.0|     1.0|27.0|            11.1333|\n|               1.0|            2.0|     1.0|14.0|            30.0708|\n|               1.0|            3.0|     1.0| 4.0|               16.7|\n|               1.0|            1.0|     1.0|58.0|              26.55|\n|               0.0|            3.0|     0.0|20.0|               8.05|\n|               0.0|            3.0|     0.0|39.0|             31.275|\n|               0.0|            3.0|     1.0|14.0|             7.8542|\n|               1.0|            2.0|     1.0|55.0|               16.0|\n|               0.0|            3.0|     0.0| 2.0|             29.125|\n|               1.0|            2.0|     0.0|23.0|               13.0|\n|               0.0|            3.0|     1.0|31.0|               18.0|\n|               1.0|            3.0|     1.0|22.0|              7.225|\n+------------------+---------------+--------+----+-------------------+\nonly showing top 20 rows\n\n"
    }
   ],
   "source": [
    "dataframe.show()"
   ]
  },
  {
   "cell_type": "markdown",
   "metadata": {},
   "source": [
    "Right now, the data consists only of floating point values and is ready for processing with Spark.\n",
    "\n",
    "# Question A\n",
    "Calculate the conditional probability that a person survives given their sex and passenger-class: <br>\n",
    "<br>\n",
    "$\\dot{P}(S = True \\; | \\; G = Female, C = 1) $ <br>\n",
    "$\\dot{P}(S = True \\; | \\; G = Female, C = 2) $ <br>\n",
    "$\\dot{P}(S = True \\; | \\; G = Female, C = 3) $ <br>\n",
    "$\\dot{P}(S = True \\; | \\; G = Male, C = 1) $ <br>\n",
    "$\\dot{P}(S = True \\; | \\; G = Male, C = 2) $ <br>\n",
    "$\\dot{P}(S = True \\; | \\; G = Male, C = 3) $ <br>"
   ]
  },
  {
   "cell_type": "code",
   "execution_count": 55,
   "metadata": {
    "tags": []
   },
   "outputs": [
    {
     "output_type": "stream",
     "name": "stdout",
     "text": "Question A\n\nProbability of a survived female in 1st class = 96.80851063829788 %\nProbability of a survived female in 2st class = 92.10526315789474 %\nProbability of a survived female in 3st class = 50.0 %\n\nProbability of a survived male in 1st class = 36.885245901639344 %\nProbability of a survived male in 2st class = 15.74074074074074 %\nProbability of a survived male in 3st class = 13.702623906705538 %\n"
    }
   ],
   "source": [
    "print(\"Question A\")\n",
    "print(\"\")\n",
    "\n",
    "# selecting the right information from the dataframe and query it\n",
    "prob = dataframe.select('survived_indicator', \"passenger_class\", \"sexIndex\").where('sexIndex = 1 AND passenger_class = 1')\n",
    "prob_sf1 = prob.where('survived_indicator = 1').count() / prob.count()\n",
    "# print prob_sf1\n",
    "print(\"Probability of a survived female in 1st class =\",str(prob_sf1 * 100)+\" %\")\n",
    "\n",
    "# selecting the right information from the dataframe and query it\n",
    "prob = dataframe.select('survived_indicator', \"passenger_class\", \"sexIndex\").where('sexIndex = 1 AND passenger_class = 2')\n",
    "prob_sf2 = prob.where('survived_indicator = 1').count() / prob.count()\n",
    "# print prob_sf2\n",
    "print(\"Probability of a survived female in 2st class =\",str(prob_sf2 * 100)+\" %\")\n",
    "\n",
    "# selecting the right information from the dataframe and query it\n",
    "prob = dataframe.select('survived_indicator', \"passenger_class\", \"sexIndex\").where('sexIndex = 1 AND passenger_class = 3')\n",
    "prob_sf3 = prob.where('survived_indicator = 1').count() / prob.count()\n",
    "# print prob_sf3\n",
    "print(\"Probability of a survived female in 3st class =\",str(prob_sf3 * 100)+\" %\")\n",
    "\n",
    "print(\"\")\n",
    "\n",
    "# selecting the right information from the dataframe and query it\n",
    "prob = dataframe.select('survived_indicator', \"passenger_class\", \"sexIndex\").where('sexIndex = 0 AND passenger_class = 1')\n",
    "prob_sm1 = prob.where('survived_indicator = 1').count() / prob.count()\n",
    "# print prob_sm1\n",
    "print(\"Probability of a survived male in 1st class =\",str(prob_sm1 * 100)+\" %\")\n",
    "\n",
    "# selecting the right information from the dataframe and query it\n",
    "prob = dataframe.select('survived_indicator', \"passenger_class\", \"sexIndex\").where('sexIndex = 0 AND passenger_class = 2')\n",
    "prob_sm2 = prob.where('survived_indicator = 1').count() / prob.count()\n",
    "# print prob_sm2\n",
    "print(\"Probability of a survived male in 2st class =\",str(prob_sm2 * 100)+\" %\")\n",
    "\n",
    "# selecting the right information from the dataframe and query it\n",
    "prob = dataframe.select('survived_indicator', \"passenger_class\", \"sexIndex\").where('sexIndex = 0 AND passenger_class = 3')\n",
    "prob_sm3 = prob.where('survived_indicator = 1').count() / prob.count()\n",
    "# print prob_sm3\n",
    "print(\"Probability of a survived male in 3st class =\",str(prob_sm3 * 100)+\" %\")"
   ]
  },
  {
   "cell_type": "markdown",
   "metadata": {},
   "source": [
    "# Question B\n",
    "What is the probability that a child who is in third class and is 10 years old or younger survives? <br>\n",
    "Since the nbumber of data points that satisfy the condition is small, use the \"bayesian\" approach and represent your probability as a beta distribution. \n",
    "calculate a beflief distribution  for: <br>\n",
    "<br>\n",
    "$\\dot S = True \\;|\\; A \\leqslant 10, \\;C = 3) $\n",
    "<br>\n",
    "<br>\n",
    "You can express your answer as a parametarized distribution."
   ]
  },
  {
   "cell_type": "code",
   "execution_count": 42,
   "metadata": {
    "tags": []
   },
   "outputs": [
    {
     "output_type": "stream",
     "name": "stdout",
     "text": "Question B\n\nprobability of a child in third class (equal or younger than 10) =  41.509433962264154 %\n"
    }
   ],
   "source": [
    "print(\"Question B\")\n",
    "print(\"\")\n",
    "\n",
    "# the probability of a child that is less or equal than 10 years old and in 3st class\n",
    "prob_child = dataframe.select('survived_indicator', \"passenger_class\", \"age\").where('age <= 10 AND passenger_class = 3')\n",
    "\n",
    "# the result is compared to the actual survived childs\n",
    "prob_child_answer = prob_child.where('survived_indicator = 1').count() / prob_child.count()\n",
    "\n",
    "# print result\n",
    "print('probability of a child in third class (equal or younger than 10) = ', str(prob_child_answer * 100) + \" %\")"
   ]
  },
  {
   "cell_type": "markdown",
   "metadata": {},
   "source": [
    "# Question C\n",
    "How much did people pay to be on the ship? Calculate the expectation of fare conditioned on passenger-class: <br>\n",
    "<br>\n",
    "$\\dot{E}(X \\; | \\; C = 1) $ <br>\n",
    "$\\dot{E}(X \\; | \\; C = 2) $ <br>\n",
    "$\\dot{E}(X \\; | \\; C = 3) $ <br>"
   ]
  },
  {
   "cell_type": "code",
   "execution_count": 54,
   "metadata": {
    "tags": []
   },
   "outputs": [
    {
     "output_type": "stream",
     "name": "stdout",
     "text": "Question C\n\nClass 1 fare expectation =  84.15468752825701  pounds\nClass 2 fare expectation =  20.66218318109927  pounds\nClass 3 fare expectation =  13.707707501045244  pounds\n"
    }
   ],
   "source": [
    "print(\"Question C\")\n",
    "print(\"\")\n",
    "\n",
    "# data from 1st class fare\n",
    "class_1_data = dataframe.select(\"fare_paid_in_pounds\").where('passenger_class = 1')\n",
    "print(\"Class 1 fare expectation = \", class_1_data.groupBy().avg().collect()[0][0], \" pounds\")\n",
    "\n",
    "# data from 2st class fare\n",
    "class_2_data = dataframe.select(\"fare_paid_in_pounds\").where('passenger_class = 2')\n",
    "print(\"Class 2 fare expectation = \", class_2_data.groupBy().avg().collect()[0][0], \" pounds\")\n",
    "\n",
    "# data from 3st class fare\n",
    "class_3_data = dataframe.select(\"fare_paid_in_pounds\").where('passenger_class = 3')\n",
    "print(\"Class 3 fare expectation = \", class_3_data.groupBy().avg().collect()[0][0], \" pounds\")"
   ]
  },
  {
   "cell_type": "markdown",
   "metadata": {},
   "source": [
    "The last step is to stop Spark. This can be done by the following command: <br>\n",
    "`spark.stop()`"
   ]
  }
 ],
 "metadata": {
  "language_info": {
   "codemirror_mode": {
    "name": "ipython",
    "version": 3
   },
   "file_extension": ".py",
   "mimetype": "text/x-python",
   "name": "python",
   "nbconvert_exporter": "python",
   "pygments_lexer": "ipython3",
   "version": "3.8.2-final"
  },
  "orig_nbformat": 2,
  "kernelspec": {
   "name": "python38264bitcda554304d844c5989b64254f60bdf1c",
   "display_name": "Python 3.8.2 64-bit"
  }
 },
 "nbformat": 4,
 "nbformat_minor": 2
}